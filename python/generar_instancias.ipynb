{
 "cells": [
  {
   "cell_type": "markdown",
   "metadata": {},
   "source": [
    "# Generador de instancias\n",
    "En este notebook está el código para generar los sets de instancias que se usan para experimentar.\n",
    "- Estas instancias van a ser guardadas en la carpeta __instancias__.\n",
    "- Cada set estará en su propia carpeta y tendrá un archivo _indice.csv_ que contendrá información sobre las instancias."
   ]
  },
  {
   "cell_type": "code",
   "execution_count": 1,
   "metadata": {},
   "outputs": [],
   "source": [
    "import random, math\n",
    "import pandas as pd\n",
    "import numpy as np"
   ]
  },
  {
   "cell_type": "code",
   "execution_count": 2,
   "metadata": {},
   "outputs": [],
   "source": [
    "def save_instance(dataset, instance_name, S, R):\n",
    "    with open(F\"instancias/{dataset}/{instance_name}.txt\", \"w\") as f:\n",
    "        print(len(S)//2, R, file=f)\n",
    "        count = 0\n",
    "        for s in S: \n",
    "            print(s, file=f, end=\" \")\n",
    "            if (count % 2 == 1):\n",
    "                print(\"\\n\", file=f, end=\"\")\n",
    "            count = count +1        \n",
    "\n",
    "def save_index(dataset, instances):\n",
    "    with open(F\"instancias/{dataset}/instances.txt\", \"w\") as f:\n",
    "        for instance in instances: \n",
    "            print(instance, file=f)"
   ]
  },
  {
   "cell_type": "markdown",
   "metadata": {},
   "source": [
    "# Experimento 1"
   ]
  },
  {
   "cell_type": "markdown",
   "metadata": {},
   "source": [
    "## Dataset 1\n",
    "Instancias con distribuidos de manera uniforme\n",
    "\n",
    "Nombre : Uniforme-baja\n",
    "\n",
    "```\n",
    "Con R = 5*n\n",
    "w = { (log2(5*n)/2:log2(5*n)), ..., (log2(5*n)/2:log2(5*n)) } \n",
    "r = { 5*n, 5*n, 5*n,..., 5*n } con W = n/2\n",
    "```"
   ]
  },
  {
   "cell_type": "code",
   "execution_count": 10,
   "metadata": {},
   "outputs": [],
   "source": [
    "filas_indice = []\n",
    "for n in range(1, 201):\n",
    "    R = (5*n)\n",
    "    pesos = [0 for i in range(0, n)]\n",
    "    resistencias = [R for i in range(0, n)]\n",
    "    for i in range(0, n): \n",
    "        pesos[i] = random.randint(math.log(R, 2)//2,int(math.log(R, 2)));\n",
    "    \n",
    "    intercalados = [val for pair in zip(pesos, resistencias) for val in pair]\n",
    "    save_instance(\"uniforme-baja\", F\"BAJA-{n}\", intercalados, R)\n",
    "    filas_indice.append([\"uniforme-baja\", F\"BAJA-{n}\", n, R, F\"instancias/uniforme-baja/BAJA-{n}.txt\"])\n",
    "pd.DataFrame(filas_indice, columns=[\"dataset\", \"instancia\", \"n\", \"R\", \"archivo\"]).to_csv(\"instancias/uniforme-baja/indice.csv\", index=False, header=True)"
   ]
  },
  {
   "cell_type": "markdown",
   "metadata": {},
   "source": [
    "## Dataset 2\n",
    "Instancias con datos distribuidos de manera uniforme:\n",
    "\n",
    "Nombre: uniforme-alta\n",
    "``` \n",
    "    Con M = n/2\n",
    "C = { (M/2), ..., (M/2) } \n",
    "B = { 1, ..., n } con M = n/2\n",
    "```"
   ]
  },
  {
   "cell_type": "code",
   "execution_count": 5,
   "metadata": {},
   "outputs": [],
   "source": [
    "filas_indice = []\n",
    "for n in range(1, 201):\n",
    "    R = (n*2)\n",
    "    pesos = [0 for i in range(0, n)]\n",
    "    resistencias = [0 for i in range(0, n)]\n",
    "    for i in range(0, (3*n)//4):  ## El 2) \n",
    "        pesos[i] = R//((3*n)//4)\n",
    "        \n",
    "    for i in range(math.floor((3*n)/4), n):  ## El 1) \n",
    "        pesos[i] = R+1\n",
    "    \n",
    "    for i in range(0, n):  ## El 3) \n",
    "        resistencias[i] = R+1\n",
    "    \n",
    "    \n",
    "    intercalados = [val for pair in zip(pesos, resistencias) for val in pair]\n",
    "    save_instance(\"uniforme-alta\", F\"ALTA-{n}\", intercalados, R)\n",
    "    filas_indice.append([\"uniforme-alta\", F\"ALTA-{n}\", n, R, F\"instancias/uniforme-alta/ALTA-{n}.txt\"])\n",
    "pd.DataFrame(filas_indice, columns=[\"dataset\", \"instancia\", \"n\", \"R\", \"archivo\"]).to_csv(\"instancias/uniforme-alta/indice.csv\", index=False, header=True)"
   ]
  },
  {
   "cell_type": "markdown",
   "metadata": {},
   "source": [
    "# Experimento 2"
   ]
  },
  {
   "cell_type": "markdown",
   "metadata": {},
   "source": [
    "## Dataset 3  Instancias con datos distribuidos de manera uniforme\n",
    "\n",
    "Nombre: caso promedio para BT-O\n",
    "``` \n",
    "    Con M = n/2\n",
    "C = { (M/2), ..., (M/2) } \n",
    "B = { 1, ..., n } con M = n/2\n",
    "```"
   ]
  },
  {
   "cell_type": "code",
   "execution_count": 3,
   "metadata": {},
   "outputs": [],
   "source": [
    "filas_indice = []\n",
    "for n in range(1, 201):\n",
    "    R = (n*2)\n",
    "    pesos = [0 for i in range(0, n)]\n",
    "    resistencias = [0 for i in range(0, n)]\n",
    "    for i in range(0, (7*n)//8):  ## Los primeros 7/8 en 1\n",
    "        pesos[i] = 1\n",
    "        \n",
    "    for i in range(math.floor((7*n)//8), n):  ## el ultimo octavo en R+1\n",
    "        pesos[i] = R+1\n",
    "    \n",
    "    for i in range(0, n):  ## Todas las resistencias en R+1\n",
    "        resistencias[i] = R+1\n",
    "    \n",
    "    \n",
    "    intercalados = [val for pair in zip(pesos, resistencias) for val in pair]\n",
    "    save_instance(\"optimalidad-prom\", F\"PROM-O-{n}\", intercalados, R)\n",
    "    filas_indice.append([\"optimalidad-prom\", F\"PROM-O-{n}\", n, R, F\"instancias/optimalidad-prom/PROM-O-{n}.txt\"])\n",
    "pd.DataFrame(filas_indice, columns=[\"dataset\", \"instancia\", \"n\", \"R\", \"archivo\"]).to_csv(\"instancias/optimalidad-prom/indice.csv\", index=False, header=True)"
   ]
  },
  {
   "cell_type": "markdown",
   "metadata": {},
   "source": [
    "## Dataset 4  Instancias con datos distribuidos de manera uniforme\n",
    "\n",
    "Nombre: caso promedio para BT-F \n",
    "``` \n",
    "    Con M = n/2\n",
    "C = { (M/2), ..., (M/2) } \n",
    "B = { 1, ..., n } con M = n/2\n",
    "```"
   ]
  },
  {
   "cell_type": "code",
   "execution_count": 4,
   "metadata": {},
   "outputs": [],
   "source": [
    "filas_indice = []\n",
    "for n in range(1, 201):\n",
    "    R = (n*2)\n",
    "    pesos = [(R//4) for i in range(0, n)]\n",
    "    resistencias = [R+1 for i in range(0, n)]\n",
    "\n",
    "    \n",
    "    intercalados = [val for pair in zip(pesos, resistencias) for val in pair]\n",
    "    save_instance(\"factibilidad-prom\", F\"PROM-F-{n}\", intercalados, R)\n",
    "    filas_indice.append([\"factibilidad-prom\", F\"PROM-F-{n}\", n, R, F\"instancias/factibilidad-prom/PROM-F-{n}.txt\"])\n",
    "pd.DataFrame(filas_indice, columns=[\"dataset\", \"instancia\", \"n\", \"R\", \"archivo\"]).to_csv(\"instancias/factibilidad-prom/indice.csv\", index=False, header=True)"
   ]
  },
  {
   "cell_type": "markdown",
   "metadata": {},
   "source": [
    "# Casos Mejor y peor BT"
   ]
  },
  {
   "cell_type": "markdown",
   "metadata": {},
   "source": [
    "## Dataset 4 Instancias de mejor caso de backtracking\n",
    "\n",
    "pesos = R+1 , resitencias = R. \n",
    "\n",
    "El primer elemento tiene que tener peso <= R y resistencia < R .\n",
    "\n",
    "\n",
    "```\n",
    "Con R = k, k constante\n",
    "w = { k/2, k+1,..., k+1} \n",
    "r = { R, ..., R } \n",
    "```\n"
   ]
  },
  {
   "cell_type": "code",
   "execution_count": 17,
   "metadata": {},
   "outputs": [],
   "source": [
    "filas_indice = []\n",
    "\n",
    "for i in range(1, 201):\n",
    "    pesos = []\n",
    "    resistencias = []    \n",
    "    n=i\n",
    "    R = 27\n",
    "    for j in range(0, n):\n",
    "        pesos.append(R+1)\n",
    "        resistencias.append(R)\n",
    "    \n",
    "    pesos[0] = R//2\n",
    "    resistencias[0] = R\n",
    "    \n",
    "    intercalados = [val for pair in zip(pesos, resistencias) for val in pair]\n",
    "    save_instance(\"mejor-caso-bt\", F\"BT-MC-{n}\", intercalados, R)\n",
    "    filas_indice.append([\"mejor-caso-bt\", F\"BT-MC-{n}\", n, R, F\"instancias/mejor-caso-bt/BT-MC-{n}.txt\"])\n",
    "pd.DataFrame(filas_indice, columns=[\"dataset\", \"instancia\", \"n\", \"R\", \"archivo\"]).to_csv(\"instancias/mejor-caso-bt/indice.csv\", index=False, header=True)"
   ]
  },
  {
   "cell_type": "markdown",
   "metadata": {},
   "source": [
    "## Dataset 5 Instancias de peor caso de backtracking, \n",
    "\n",
    "Resistencias = R+1 \n",
    "\n",
    "Pesos = 1\n",
    "\n",
    "```\n",
    "Con R\n",
    "r = { R+1, ..., R+1, R+1 } \n",
    "w = { 1, ..., 1 }\n",
    "```"
   ]
  },
  {
   "cell_type": "code",
   "execution_count": 15,
   "metadata": {},
   "outputs": [],
   "source": [
    "filas_indice = []\n",
    "n = 0\n",
    "for i in range(1, 200):\n",
    "    pesos = []\n",
    "    resistencias = []    \n",
    "    n = i\n",
    "    R = n\n",
    "    \n",
    "    for j in range(0, n):    \n",
    "        pesos.append(1)\n",
    "        resistencias.append(R+1)\n",
    "    \n",
    "    \n",
    "    intercalados = [val for pair in zip(pesos, resistencias) for val in pair]\n",
    "    save_instance(\"peor-caso-bt\", F\"BT-PC-{n}\", intercalados, R)\n",
    "    filas_indice.append([\"peor-caso-bt\", F\"BT-PC-{n}\", n, R, F\"instancias/peor-caso-bt/BT-PC-{n}.txt\"])\n",
    "pd.DataFrame(filas_indice, columns=[\"dataset\", \"instancia\", \"n\", \"R\", \"archivo\"]).to_csv(\"instancias/peor-caso-bt/indice.csv\", index=False, header=True)"
   ]
  },
  {
   "cell_type": "code",
   "execution_count": null,
   "metadata": {},
   "outputs": [],
   "source": []
  },
  {
   "cell_type": "code",
   "execution_count": null,
   "metadata": {},
   "outputs": [],
   "source": []
  },
  {
   "cell_type": "markdown",
   "metadata": {},
   "source": [
    "# Dataset Programacion-Dinamica\n",
    "Instancias variando n y W con todos los numeros uniformes entre [1000- 8000] \n",
    "## Terminar de ver."
   ]
  },
  {
   "cell_type": "code",
   "execution_count": 13,
   "metadata": {},
   "outputs": [],
   "source": [
    "filas_indice = []\n",
    "for n in range(1000, 8000, 500):\n",
    "    for R in range(1000, 8000, 500):\n",
    "        pesos =  [1 for i in range(0, n)]\n",
    "        resistencias = [R for i in range(0, R)]\n",
    "        intercalados = [val for pair in zip(pesos, resistencias) for val in pair]\n",
    "        save_instance(\"dinamica\", F\"DP-{n}-{R}\", intercalados, R)\n",
    "        filas_indice.append([\"dinamica\", F\"DP-{n}-{R}\", n, R, F\"instancias/dinamica/DP-{n}-{R}.txt\"])\n",
    "pd.DataFrame(filas_indice, columns=[\"dataset\", \"instancia\", \"n\", \"R\", \"archivo\"]).to_csv(\"instancias/dinamica/indice.csv\", index=False, header=True)"
   ]
  },
  {
   "cell_type": "code",
   "execution_count": null,
   "metadata": {},
   "outputs": [],
   "source": []
  },
  {
   "cell_type": "code",
   "execution_count": null,
   "metadata": {},
   "outputs": [],
   "source": []
  }
 ],
 "metadata": {
  "kernelspec": {
   "display_name": "Python 3",
   "language": "python",
   "name": "python3"
  },
  "language_info": {
   "codemirror_mode": {
    "name": "ipython",
    "version": 3
   },
   "file_extension": ".py",
   "mimetype": "text/x-python",
   "name": "python",
   "nbconvert_exporter": "python",
   "pygments_lexer": "ipython3",
   "version": "3.6.5"
  }
 },
 "nbformat": 4,
 "nbformat_minor": 4
}
